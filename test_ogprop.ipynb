{
 "cells": [
  {
   "cell_type": "code",
   "execution_count": null,
   "id": "911cba5b",
   "metadata": {},
   "outputs": [],
   "source": [
    "%load_ext autoreload\n",
    "%autoreload 2\n",
    "\n",
    "import hrd_20250608.rope_class_hrd as rope   \n",
    "import pandas as pd\n",
    "\n",
    "init_date = pd.to_datetime('2003-10-28 00:00:00')\n",
    "\n",
    "sindy = rope.rope_propagator()\n",
    "sindy.propagate_models(init_date = init_date, forward_propagation = 1)"
   ]
  },
  {
   "cell_type": "code",
   "execution_count": null,
   "id": "52fb0e0d",
   "metadata": {},
   "outputs": [],
   "source": []
  }
 ],
 "metadata": {
  "kernelspec": {
   "display_name": "tiegcm_rope_env",
   "language": "python",
   "name": "python3"
  },
  "language_info": {
   "codemirror_mode": {
    "name": "ipython",
    "version": 3
   },
   "file_extension": ".py",
   "mimetype": "text/x-python",
   "name": "python",
   "nbconvert_exporter": "python",
   "pygments_lexer": "ipython3",
   "version": "3.13.5"
  }
 },
 "nbformat": 4,
 "nbformat_minor": 5
}
