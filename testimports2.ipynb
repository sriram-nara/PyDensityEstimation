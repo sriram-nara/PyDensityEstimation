{
 "cells": [
  {
   "cell_type": "code",
   "execution_count": 1,
   "id": "df97d524",
   "metadata": {},
   "outputs": [],
   "source": [
    "%load_ext autoreload\n",
    "%autoreload 2\n",
    "\n",
    "import numpy as np\n",
    "from datetime import datetime, timedelta\n",
    "import orekit\n",
    "import time\n",
    "import pymsis\n",
    "from pymsis import msis\n",
    "import matplotlib.dates as mdates\n",
    "from scipy.optimize import curve_fit\n",
    "import hrd_20250608.utilities_ds as u\n",
    "from orekit.pyhelpers import download_orekit_data_curdir, setup_orekit_curdir\n",
    "from os import path\n",
    "import numpy as np\n",
    "import pandas as pd\n",
    "\n",
    "from scipy.interpolate import interp1d\n",
    "from scipy.linalg import expm, logm\n",
    "from scipy.integrate import solve_ivp\n",
    "import matplotlib.pyplot as plt\n",
    "from datetime import datetime, timedelta\n",
    "from sklearn.metrics import mean_squared_error, mean_absolute_error\n",
    "import hrd_20250608.rope_class_hrd as rope "
   ]
  },
  {
   "cell_type": "code",
   "execution_count": null,
   "id": "935b54c4",
   "metadata": {},
   "outputs": [
    {
     "name": "stdout",
     "output_type": "stream",
     "text": [
      "Java version: 1.8.0_412\n",
      "Orekit version: 13.0.1\n",
      "Maximum available time T = 86340s\n"
     ]
    },
    {
     "ename": "UnboundLocalError",
     "evalue": "cannot access local variable 'drivers_at_toffset' where it is not associated with a value",
     "output_type": "error",
     "traceback": [
      "\u001b[31m---------------------------------------------------------------------------\u001b[39m",
      "\u001b[31mUnboundLocalError\u001b[39m                         Traceback (most recent call last)",
      "\u001b[36mCell\u001b[39m\u001b[36m \u001b[39m\u001b[32mIn[2]\u001b[39m\u001b[32m, line 37\u001b[39m\n\u001b[32m     35\u001b[39m current_date = init_date\n\u001b[32m     36\u001b[39m sindy = rope.rope_propagator()\n\u001b[32m---> \u001b[39m\u001b[32m37\u001b[39m \u001b[43msindy\u001b[49m\u001b[43m.\u001b[49m\u001b[43mpropagate_models_mins\u001b[49m\u001b[43m(\u001b[49m\u001b[43minit_date\u001b[49m\u001b[43m=\u001b[49m\u001b[43mcurrent_date\u001b[49m\u001b[43m,\u001b[49m\u001b[43m \u001b[49m\u001b[43mforward_propagation\u001b[49m\u001b[43m=\u001b[49m\u001b[32;43m1440\u001b[39;49m\u001b[43m)\u001b[49m\n\u001b[32m     38\u001b[39m all_dmd_outputs.append(sindy.z_dict[\u001b[33m'\u001b[39m\u001b[33mdmd\u001b[39m\u001b[33m'\u001b[39m][:,-\u001b[32m1\u001b[39m][:, np.newaxis])\n\u001b[32m     41\u001b[39m \u001b[38;5;66;03m# Concatenate all outputs along the time axis \u001b[39;00m\n",
      "\u001b[36mFile \u001b[39m\u001b[32m~/WVU/Code/PyDensityEstimation/hrd_20250608/rope_class_hrd.py:520\u001b[39m, in \u001b[36mrope_propagator.propagate_models_mins\u001b[39m\u001b[34m(self, init_date, forward_propagation)\u001b[39m\n\u001b[32m    516\u001b[39m     \u001b[38;5;28mself\u001b[39m.propagation_drivers = interpolated_drivers\n\u001b[32m    518\u001b[39m \u001b[38;5;66;03m# print(interpolated_drivers)\u001b[39;00m\n\u001b[32m--> \u001b[39m\u001b[32m520\u001b[39m f10_value = np.copy(\u001b[43mdrivers_at_toffset\u001b[49m[f10_idx, t0])\n\u001b[32m    521\u001b[39m kp_value = np.copy(drivers_at_toffset[kp_idx, t0])\n\u001b[32m    522\u001b[39m z_series = \u001b[38;5;28mself\u001b[39m.get_initial_z_from_drivers(\u001b[38;5;28mself\u001b[39m.initial_conditions, f10_value, kp_value)\n",
      "\u001b[31mUnboundLocalError\u001b[39m: cannot access local variable 'drivers_at_toffset' where it is not associated with a value"
     ]
    }
   ],
   "source": [
    "# download_orekit_data_curdir( 'hrd_20250608/orekit-data.zip' )  # Comment this out once this file has already been downloaded for repeated runs\n",
    "vm = orekit.initVM()\n",
    "setup_orekit_curdir( './hrd_20250608/' )\n",
    "\n",
    "print ( 'Java version:', vm.java_version )\n",
    "print ( 'Orekit version:', orekit.VERSION )\n",
    "\n",
    "# User inputs\n",
    "forward_propagation_mins = 1  # forward propagation time (mins)\n",
    "init_date = pd.to_datetime('2003-05-10 00:00:00')\n",
    "\n",
    "latitude_values = [89.]  # degrees\n",
    "local_time_values = [8.]  # hours\n",
    "altitude_values = [358.]  # km\n",
    "lla_array = np.vstack((latitude_values, local_time_values, altitude_values)).T.reshape((-1, 3))\n",
    "\n",
    "# Prepare to store results\n",
    "all_dmd_outputs = []\n",
    "\n",
    "# Loop over 1 day (1440 minutes), propagating 1 min at a time\n",
    "current_date = init_date\n",
    "minutes_in_day = 24 * 60\n",
    "for i in range(minutes_in_day):\n",
    "    sindy = rope.rope_propagator()\n",
    "    sindy.propagate_models_mins(init_date=current_date, forward_propagation=forward_propagation_mins)\n",
    "    all_dmd_outputs.append(sindy.z_dict['dmd'][:,-1][:, np.newaxis])\n",
    "    current_date += pd.Timedelta(minutes=forward_propagation_mins)\n",
    "\n",
    "# Concatenate all outputs along the time axis \n",
    "all_dmd_outputs = np.concatenate(all_dmd_outputs, axis=1)\n",
    "print(\"Stepwise shape:\", all_dmd_outputs.shape)\n",
    "df_stepwise = pd.DataFrame(data=all_dmd_outputs)"
   ]
  },
  {
   "cell_type": "code",
   "execution_count": null,
   "id": "c48b0221",
   "metadata": {},
   "outputs": [],
   "source": [
    "df_stepwise\n",
    "\n"
   ]
  },
  {
   "cell_type": "code",
   "execution_count": null,
   "id": "9a6d22cd",
   "metadata": {},
   "outputs": [],
   "source": [
    "# Now run the original implementation: propagate for one day in a single call\n",
    "sindy_full = rope.rope_propagator()\n",
    "sindy_full.propagate_models(init_date=init_date, forward_propagation=1)\n",
    "dmd_full = sindy_full.z_dict['dmd']\n",
    "print(\"Full shape:\", dmd_full.shape)\n",
    "df_full = pd.DataFrame(data=dmd_full)\n",
    "\n",
    "# Align shapes for comparison (in case of off-by-one)\n",
    "min_cols = min(df_stepwise.shape[1], df_full.shape[1])\n",
    "df_stepwise = df_stepwise.iloc[:, :min_cols]\n",
    "df_full = df_full.iloc[:, :min_cols]\n"
   ]
  },
  {
   "cell_type": "code",
   "execution_count": null,
   "id": "c98a0d6d",
   "metadata": {},
   "outputs": [],
   "source": [
    "df_full\n"
   ]
  },
  {
   "cell_type": "code",
   "execution_count": null,
   "id": "68dd9a07",
   "metadata": {},
   "outputs": [],
   "source": [
    "# Calculate the difference between full and stepwise dataframes\n",
    "diff = df_full.values - df_stepwise.values\n",
    "\n",
    "# Compute the relative two-norm error for each column\n",
    "relative_two_norm_error = np.linalg.norm(diff, ord=2, axis=0) / np.linalg.norm(df_full.values, ord=2, axis=0)\n",
    "\n",
    "# Plot the relative two-norm error in log scale over the columns using a semilogy plot\n",
    "plt.figure(figsize=(10, 6))\n",
    "plt.semilogy(relative_two_norm_error, marker='o')\n",
    "plt.title('Relative Two-Norm Error Over Columns (Log Scale)')\n",
    "plt.xlabel('Column Index')\n",
    "plt.ylabel('Relative Two-Norm Error')\n",
    "plt.grid(True)\n",
    "plt.show()\n"
   ]
  }
 ],
 "metadata": {
  "kernelspec": {
   "display_name": "tiegcm_rope_env",
   "language": "python",
   "name": "python3"
  },
  "language_info": {
   "codemirror_mode": {
    "name": "ipython",
    "version": 3
   },
   "file_extension": ".py",
   "mimetype": "text/x-python",
   "name": "python",
   "nbconvert_exporter": "python",
   "pygments_lexer": "ipython3",
   "version": "3.13.5"
  }
 },
 "nbformat": 4,
 "nbformat_minor": 5
}
